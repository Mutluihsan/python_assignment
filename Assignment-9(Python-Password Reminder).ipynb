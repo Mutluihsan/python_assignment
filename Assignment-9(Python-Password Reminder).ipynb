{
 "cells": [
  {
   "cell_type": "code",
   "execution_count": 8,
   "metadata": {},
   "outputs": [
    {
     "name": "stdout",
     "output_type": "stream",
     "text": [
      "Please enter your name: mutluihsan\n",
      "Hello, Mutluihsan! The password is: 123456mutlu.\n"
     ]
    }
   ],
   "source": [
    "user_name = 'Mutluihsan'\n",
    "password = '123456mutlu'\n",
    "check = input(\"Please enter your name: \")\n",
    "check = check.lower()\n",
    "if user_name.lower() == check.lower():\n",
    "    print(\"Hello, {}! The password is: {}.\".format(user_name.title(),password))\n",
    "else:\n",
    "    print(\"Hello, {}! See you later.\".format(check.title()))\n",
    "    \n",
    "    \n",
    "\n"
   ]
  }
 ],
 "metadata": {
  "kernelspec": {
   "display_name": "Python 3",
   "language": "python",
   "name": "python3"
  },
  "language_info": {
   "codemirror_mode": {
    "name": "ipython",
    "version": 3
   },
   "file_extension": ".py",
   "mimetype": "text/x-python",
   "name": "python",
   "nbconvert_exporter": "python",
   "pygments_lexer": "ipython3",
   "version": "3.8.5"
  }
 },
 "nbformat": 4,
 "nbformat_minor": 4
}
