{
 "cells": [
  {
   "cell_type": "code",
   "execution_count": 7,
   "metadata": {},
   "outputs": [
    {
     "name": "stdout",
     "output_type": "stream",
     "text": [
      "Enter a year(xxxx format): 2020\n",
      "2020 is a leap year\n"
     ]
    }
   ],
   "source": [
    "year = int(input(\"Enter a year(xxxx format): \"))\n",
    "if (((year % 400 == 0) and (year % 100 == 0)) or ((year % 4 ==0) and (year % 100 != 0))):\n",
    "    print(\"{} is a leap year\".format(year))\n",
    "else:\n",
    "    print(\"{} is not a leap year\".format(year))"
   ]
  },
  {
   "cell_type": "code",
   "execution_count": 9,
   "metadata": {},
   "outputs": [
    {
     "name": "stdout",
     "output_type": "stream",
     "text": [
      "Enter a year(xxxx format): 2019\n",
      "2019 is not a leap year\n"
     ]
    }
   ],
   "source": [
    "year = int(input(\"Enter a year(xxxx format): \"))\n",
    "if (year % 4 == 0) and (year % 100 != 0): \n",
    "    print(\"{} is a leap year\".format(year))\n",
    "elif (year % 100 == 0) and (year % 400 != 0):\n",
    "    print(\"{} is not a leap year\".format(year))\n",
    "elif (year % 400 == 0):\n",
    "    print(\"{} is a leap year\".format(year))\n",
    "else:\n",
    "    print(\"{} is not a leap year\".format(year))\n"
   ]
  }
 ],
 "metadata": {
  "kernelspec": {
   "display_name": "Python 3",
   "language": "python",
   "name": "python3"
  },
  "language_info": {
   "codemirror_mode": {
    "name": "ipython",
    "version": 3
   },
   "file_extension": ".py",
   "mimetype": "text/x-python",
   "name": "python",
   "nbconvert_exporter": "python",
   "pygments_lexer": "ipython3",
   "version": "3.8.5"
  }
 },
 "nbformat": 4,
 "nbformat_minor": 4
}
