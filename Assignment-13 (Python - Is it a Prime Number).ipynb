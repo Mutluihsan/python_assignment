{
 "cells": [
  {
   "cell_type": "code",
   "execution_count": 36,
   "metadata": {},
   "outputs": [
    {
     "name": "stdout",
     "output_type": "stream",
     "text": [
      "Enter a number to check if it is a prime number : 19\n",
      "19 is a prime number\n"
     ]
    }
   ],
   "source": [
    "num = int(input('Enter a number to check if it is a prime number : '))\n",
    "if num > 1:\n",
    "    for i in range(2, num // 2):\n",
    "        if (num % i) == 0:\n",
    "            print('{} is not a prime number '.format(num))\n",
    "            break\n",
    "    else:\n",
    "        print('{} is a prime number'.format(num))\n",
    "else:\n",
    "    print('{} is not a prime number'.format(num))"
   ]
  }
 ],
 "metadata": {
  "kernelspec": {
   "display_name": "Python 3",
   "language": "python",
   "name": "python3"
  },
  "language_info": {
   "codemirror_mode": {
    "name": "ipython",
    "version": 3
   },
   "file_extension": ".py",
   "mimetype": "text/x-python",
   "name": "python",
   "nbconvert_exporter": "python",
   "pygments_lexer": "ipython3",
   "version": "3.8.5"
  }
 },
 "nbformat": 4,
 "nbformat_minor": 4
}
