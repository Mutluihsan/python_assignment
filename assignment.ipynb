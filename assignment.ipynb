# Choose Yes for 1 No for 0.
age = bool(int(input("Are you a cigarette addict older than 75 years old?: ")))
chronic = bool(int(input("Do you have a severe chronic disease?: ")))
immune = bool(int(input("Is your immune system too weak?: ")))
risk = age or chronic or immune
if risk == True:
  print("You are in the risk group")
else:
  print("You are not in the risk group")
