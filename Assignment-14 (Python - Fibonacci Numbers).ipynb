{
 "cells": [
  {
   "cell_type": "code",
   "execution_count": 24,
   "metadata": {},
   "outputs": [
    {
     "name": "stdout",
     "output_type": "stream",
     "text": [
      "How many steps do you want to do the process? : 8\n",
      "fibonacci →  [1, 1, 2, 3, 5, 8, 13, 21, 34, 55]\n"
     ]
    }
   ],
   "source": [
    "iter_num = int(input(\"How many steps do you want to do the process? : \"))\n",
    "fibo_list = [1,1]\n",
    "for i in range(1 , iter_num + 1):\n",
    "    fibo_list.append(fibo_list[i-1] + fibo_list[i])\n",
    "print(\"fibonacci → \", fibo_list)"
   ]
  },
  {
   "cell_type": "code",
   "execution_count": 25,
   "metadata": {},
   "outputs": [
    {
     "name": "stdout",
     "output_type": "stream",
     "text": [
      "What do you want the largest number in the list to be less than or equal to? : 60\n",
      "fibonacci →  [1, 1, 2, 3, 5, 8, 13, 21, 34, 55]\n"
     ]
    }
   ],
   "source": [
    "iter_num = int(input(\"What do you want the largest number in the list to be less than or equal to? : \"))\n",
    "num1, num2 = 1, 1\n",
    "fibo_list = []\n",
    "while num1 <= iter_num:\n",
    "    fibo_list.append(num1)\n",
    "    num1, num2 = num2, num1 + num2\n",
    "print(\"fibonacci → \", fibo_list)"
   ]
  }
 ],
 "metadata": {
  "kernelspec": {
   "display_name": "Python 3",
   "language": "python",
   "name": "python3"
  },
  "language_info": {
   "codemirror_mode": {
    "name": "ipython",
    "version": 3
   },
   "file_extension": ".py",
   "mimetype": "text/x-python",
   "name": "python",
   "nbconvert_exporter": "python",
   "pygments_lexer": "ipython3",
   "version": "3.8.5"
  }
 },
 "nbformat": 4,
 "nbformat_minor": 4
}
