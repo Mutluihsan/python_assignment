{
 "cells": [
  {
   "cell_type": "markdown",
   "metadata": {},
   "source": [
    "## Exercise 1\n",
    "\n",
    "What is the normal body temperature for healthy humans? A random sample of 130 healthy human body temperatures provided by Allen Shoemaker yielded an average temperature of 98.25 degrees and a standard deviation of 0.73 degrees.\n",
    "\n",
    "Give a 99% confidence interval for the average body temperature of healthy people.\n"
   ]
  },
  {
   "cell_type": "code",
   "execution_count": 12,
   "metadata": {},
   "outputs": [
    {
     "name": "stdout",
     "output_type": "stream",
     "text": [
      "99% confidence interval for the average body temperature of healthy people is: (98.08508192246582, 98.41491807753418)\n"
     ]
    }
   ],
   "source": [
    "import scipy.stats as stats\n",
    "import math\n",
    "# Confidence interval formula is X̄ ± Z * (σ/√n)\n",
    "# given values\n",
    "sample_mean = 98.25\n",
    "std_dev = 0.73\n",
    "n = 130\n",
    "\n",
    "# calculate the standard error\n",
    "std_err = std_dev / math.sqrt(n)\n",
    "\n",
    "# calculate the confidence interval\n",
    "confidence = 0.99\n",
    "\n",
    "print(\"99% confidence interval for the average body temperature of healthy people is:\", stats.norm.interval(alpha=0.99, loc=sample_mean, scale=std_err))\n"
   ]
  },
  {
   "cell_type": "markdown",
   "metadata": {},
   "source": [
    "## Exercise 2\n",
    "The administrators for a hospital wished to estimate the average number of days required for inpatient treatment of patients between the ages of 25 and 34. A random sample of 500 hospital patients between these ages produced a mean and standard deviation equal to 5.4 and 3.1 days, respectively.\n",
    "\n",
    "\n",
    "Construct a 95% confidence interval for the mean length of stay for the population of patients from which the sample was drawn.\n"
   ]
  },
  {
   "cell_type": "code",
   "execution_count": 11,
   "metadata": {},
   "outputs": [
    {
     "name": "stdout",
     "output_type": "stream",
     "text": [
      "95% confidence interval for the mean length of stay for the population of patients is: (5.12827801242126, 5.67172198757874)\n"
     ]
    }
   ],
   "source": [
    "import scipy.stats as stats\n",
    "import math\n",
    "\n",
    "# given values\n",
    "sample_mean = 5.4\n",
    "std_dev = 3.1\n",
    "n = 500\n",
    "\n",
    "# calculate the standard error\n",
    "std_err = std_dev / math.sqrt(n)\n",
    "\n",
    "# calculate the confidence interval\n",
    "confidence = 0.95\n",
    "\n",
    "# Second way: \n",
    "print(\"95% confidence interval for the mean length of stay for the population of patients is:\", stats.norm.interval(alpha=0.95, loc=sample_mean, scale=std_err))"
   ]
  },
  {
   "cell_type": "markdown",
   "metadata": {},
   "source": [
    "## Exercise 3\n",
    "The hourly wages in a particular industry are normally distributed with mean 13.20 and standard deviation  2.50. A company in this industry employs 40 workers, paying them an average of 12.20 per hour. Can this company be accused of paying substandard wages? Use an α = .01 level test.\n"
   ]
  },
  {
   "cell_type": "code",
   "execution_count": 9,
   "metadata": {},
   "outputs": [
    {
     "name": "stdout",
     "output_type": "stream",
     "text": [
      "t_statistic: -0.5516498351581299 p-value: 0.5843355529544192\n",
      "Fail to reject the null hypothesis. The company cannot be accused of paying substandard wages.\n"
     ]
    }
   ],
   "source": [
    "# H0: μ = 13.20 \n",
    "# Ha: μ < 13.20 \n",
    "#t = (X̄ - μ) / (σ / √n)\n",
    "import scipy.stats as stats\n",
    "import math\n",
    "import numpy as np\n",
    "np.random.seed(101)\n",
    "\n",
    "# given values\n",
    "mu = 13.20\n",
    "sample_mean = 12.20\n",
    "std_dev = 2.50\n",
    "n = 40\n",
    "alpha = 0.01\n",
    "\n",
    "# calculate the test statistic\n",
    "t_statistic = (sample_mean - mu) / (std_dev / math.sqrt(n))\n",
    "\n",
    "#calculate the p-value \n",
    "sample = np.random.normal(loc=sample_mean, scale=std_dev, size=n)\n",
    "\n",
    "# perform the t-test\n",
    "t_statistic, p_value = stats.ttest_1samp(sample, mu)\n",
    "print(f\"t_statistic: {t_statistic}\" , f\"p-value: {p_value}\" )\n",
    "\n",
    "# perform the hypothesis test with using p-value\n",
    "if p_value < alpha:\n",
    "    print(\"Reject the null hypothesis. The company can be accused of paying substandard wages.\")\n",
    "else:\n",
    "    print(\"Fail to reject the null hypothesis. The company cannot be accused of paying substandard wages.\")"
   ]
  },
  {
   "cell_type": "markdown",
   "metadata": {},
   "source": [
    "## Exercise 4\n",
    "Shear strength measurements derived from unconfined compression tests for two types of soils gave the results shown in the following document (measurements in tons per square foot). Do the soils appear to differ with respect to average shear strength, at the 1% significance level?"
   ]
  },
  {
   "cell_type": "code",
   "execution_count": 13,
   "metadata": {},
   "outputs": [
    {
     "name": "stdout",
     "output_type": "stream",
     "text": [
      "t_statistic: 5.1681473319343345, p-value: 2.593228732352821e-06\n",
      "We reject the null hypothesis. There is a significant difference in the mean shear strength between the two types of soils.\n"
     ]
    }
   ],
   "source": [
    "import pandas as pd\n",
    "import scipy.stats as stats\n",
    "\n",
    "# Load data from CSV file\n",
    "df = pd.read_csv('soil.csv')\n",
    "\n",
    "# Assume 'Soil1' and 'Soil2' are the column names\n",
    "soil1 = df['Soil1'].dropna()  # dropna() is used to remove missing values (NaNs)\n",
    "soil2 = df['Soil2'].dropna()\n",
    "\n",
    "# Perform the independent two sample t-test\n",
    "t_statistic, p_value = stats.ttest_ind(soil1, soil2)\n",
    "print(f\"t_statistic: {t_statistic},\" , f\"p-value: {p_value}\" )\n",
    "\n",
    "# If p-value is less than 0.01 then we reject the null hypothesis\n",
    "if p_value < 0.01:\n",
    "    print(\"We reject the null hypothesis. There is a significant difference in the mean shear strength between the two types of soils.\")\n",
    "else:\n",
    "    print(\"We fail to reject the null hypothesis. There is not a significant difference in the mean shear strength between the two types of soils.\")"
   ]
  },
  {
   "cell_type": "markdown",
   "metadata": {},
   "source": [
    "## Exercise 5\n",
    "\n",
    "The following dataset is based on data provided by the World Bank (https://datacatalog.worldbank.org/dataset/education-statistics). World Bank Edstats.  2015 PISA Test Dataset\n",
    "\n",
    "Get descriptive statistics (the central tendency, dispersion and shape of a dataset’s distribution) for each continent group (AS, EU, AF, NA, SA, OC).\n",
    "Determine whether there is any difference (on the average) for the math scores among European (EU) and Asian (AS) countries (assume normality and equal variances). Draw side-by-side box plots."
   ]
  },
  {
   "cell_type": "code",
   "execution_count": 31,
   "metadata": {},
   "outputs": [
    {
     "name": "stdout",
     "output_type": "stream",
     "text": [
      "               internet_users_per_100                                   \\\n",
      "                                count       mean        std        min   \n",
      "Continent_Code                                                           \n",
      "AF                                2.0  43.359918   7.297226  38.200000   \n",
      "AS                               17.0  68.455613  21.086060  21.976068   \n",
      "EU                               37.0  77.274888  12.425773  53.744979   \n",
      "OC                                2.0  86.391704   2.589686  84.560519   \n",
      "SA                                7.0  60.180494   9.772455  40.900000   \n",
      "\n",
      "                                                            Math              \\\n",
      "                      25%        50%        75%        max count        mean   \n",
      "Continent_Code                                                                 \n",
      "AF              40.779959  43.359918  45.939877  48.519836   2.0  363.212100   \n",
      "AS              50.300000  74.000000  84.948353  92.884826  17.0  466.216647   \n",
      "EU              68.632900  76.184000  87.479056  98.200000  37.0  477.981449   \n",
      "OC              85.476112  86.391704  87.307296  88.222889   2.0  494.559750   \n",
      "SA              57.116462  64.289000  66.321532  69.198471   7.0  402.887700   \n",
      "\n",
      "                ...     Reading           Science                         \\\n",
      "                ...         75%       max   count        mean        std   \n",
      "Continent_Code  ...                                                        \n",
      "AF              ...  358.256450  361.0555     2.0  381.074250   7.536556   \n",
      "AS              ...  508.690500  535.1002    17.0  467.945847  56.671371   \n",
      "EU              ...  499.814600  526.4247    37.0  478.299381  34.450616   \n",
      "OC              ...  507.678175  509.2707     2.0  511.648700   2.340241   \n",
      "SA              ...  431.922700  458.5709     7.0  421.747186  18.470319   \n",
      "\n",
      "                                                                       \n",
      "                     min         25%        50%         75%       max  \n",
      "Continent_Code                                                         \n",
      "AF              375.7451  378.409675  381.07425  383.738825  386.4034  \n",
      "AS              386.4854  417.611200  456.48360  523.277400  555.5747  \n",
      "EU              383.6824  460.774900  490.22500  501.936900  534.1937  \n",
      "OC              509.9939  510.821300  511.64870  512.476100  513.3035  \n",
      "SA              396.6836  408.205450  424.59050  433.794600  446.9561  \n",
      "\n",
      "[5 rows x 32 columns]\n"
     ]
    }
   ],
   "source": [
    "import pandas as pd\n",
    "import matplotlib.pyplot as plt\n",
    "import seaborn as sns\n",
    "import scipy.stats as stats\n",
    "\n",
    "# Load data from CSV file\n",
    "data = pd.read_csv('PISA_Test.csv')\n",
    "\n",
    "# Descriptive statistics for each continent group.\n",
    "continent_groups = data.groupby('Continent_Code')\n",
    "print(continent_groups.describe())"
   ]
  },
  {
   "cell_type": "code",
   "execution_count": 29,
   "metadata": {},
   "outputs": [
    {
     "name": "stdout",
     "output_type": "stream",
     "text": [
      "There is difference for the math scores among European (477.98144864864867) and Asian countries (466.2166470588236)\n"
     ]
    }
   ],
   "source": [
    "# Determine whether there is any difference (on the average) for the math scores among European and Asian countries. \n",
    "eu_math_scores = data[data['Continent_Code'] == 'EU']['Math'].mean()\n",
    "as_math_scores = data[data['Continent_Code'] == 'AS']['Math'].mean()\n",
    "if eu_math_scores == as_math_scores:\n",
    "    print(f\"There is no difference for the math scores among European ({eu_math_scores}) and Asian countries ({as_math_scores})\")\n",
    "else:\n",
    "    print(f\"There is difference for the math scores among European ({eu_math_scores}) and Asian countries ({as_math_scores})\")"
   ]
  },
  {
   "cell_type": "code",
   "execution_count": 33,
   "metadata": {},
   "outputs": [
    {
     "name": "stdout",
     "output_type": "stream",
     "text": [
      "t_statistic: 5.1681473319343345, p-value: 2.593228732352821e-06\n",
      "P-value is greater than 0.01. We cannot reject the null hypothesis that the means are equal.\n"
     ]
    }
   ],
   "source": [
    "t_stat, p_val = stats.ttest_ind(eu_math_scores, as_math_scores)\n",
    "print(f\"t_statistic: {t_statistic},\" , f\"p-value: {p_value}\" )\n",
    "if p_val < 0.01:\n",
    "    print(\"P-value is less than 0.01. We can reject the null hypothesis that the means are equal.\")\n",
    "else:\n",
    "    print(\"P-value is greater than 0.01. We cannot reject the null hypothesis that the means are equal.\")"
   ]
  },
  {
   "cell_type": "code",
   "execution_count": 30,
   "metadata": {},
   "outputs": [
    {
     "data": {
      "image/png": "[encoded data removed]",
      "text/plain": [
       "<Figure size 432x288 with 1 Axes>"
      ]
     },
     "metadata": {
      "needs_background": "light"
     },
     "output_type": "display_data"
    }
   ],
   "source": [
    "# Draw side-by-side box plots.\n",
    "sns.boxplot(x='Continent_Code', y='Math', data=data[data['Continent_Code'].isin(['EU', 'AS'])])\n",
    "plt.show()"
   ]
  }
 ],
 "metadata": {
  "kernelspec": {
   "display_name": "Python 3",
   "language": "python",
   "name": "python3"
  },
  "language_info": {
   "codemirror_mode": {
    "name": "ipython",
    "version": 3
   },
   "file_extension": ".py",
   "mimetype": "text/x-python",
   "name": "python",
   "nbconvert_exporter": "python",
   "pygments_lexer": "ipython3",
   "version": "3.8.5"
  }
 },
 "nbformat": 4,
 "nbformat_minor": 4
}
