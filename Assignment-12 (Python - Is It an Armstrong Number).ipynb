{
 "cells": [
  {
   "cell_type": "code",
   "execution_count": 61,
   "metadata": {},
   "outputs": [
    {
     "name": "stdout",
     "output_type": "stream",
     "text": [
      "Enter a number: -153\n",
      "It is an invalid entry. Don't use non-numeric, float, or negative values!\n",
      "Enter a number: 153.87\n",
      "It is an invalid entry. Don't use non-numeric, float, or negative values!\n",
      "Enter a number: 153,87\n",
      "It is an invalid entry. Don't use non-numeric, float, or negative values!\n",
      "Enter a number: 407\n",
      "407 is an Armstrong number\n"
     ]
    }
   ],
   "source": [
    "num = input(\"Enter a number: \")\n",
    "armstrong_numlist = []\n",
    "while (num.startswith(\"-\")) or (\".\" in num) or (\",\" in num) or (not num.isdigit()):\n",
    "    print(\"It is an invalid entry. Don't use non-numeric, float, or negative values!\")\n",
    "    num = input(\"Enter a number: \")\n",
    "num_list = list(num)\n",
    "num_digts = len(list(num))\n",
    "for i in range(0,int(num_digts)):\n",
    "    armstrong_check = int(num_list[i]) ** int(num_digts)\n",
    "    armstrong_numlist.append(armstrong_check)\n",
    "if sum(armstrong_numlist) == int(num):\n",
    "    print(\"{} is an Armstrong number\".format(num))\n",
    "else: \n",
    "    print(\"{} is not an Armstrong number\".format(num))"
   ]
  }
 ],
 "metadata": {
  "kernelspec": {
   "display_name": "Python 3",
   "language": "python",
   "name": "python3"
  },
  "language_info": {
   "codemirror_mode": {
    "name": "ipython",
    "version": 3
   },
   "file_extension": ".py",
   "mimetype": "text/x-python",
   "name": "python",
   "nbconvert_exporter": "python",
   "pygments_lexer": "ipython3",
   "version": "3.8.5"
  }
 },
 "nbformat": 4,
 "nbformat_minor": 4
}
